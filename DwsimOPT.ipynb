{
 "cells": [
  {
   "cell_type": "code",
   "execution_count": 15,
   "metadata": {},
   "outputs": [],
   "source": [
    "import numpy as np\n",
    "from pprint import pprint\n",
    "import os\n",
    "from pathlib import Path\n",
    "from dwsimopt.solve_sim_opt import OptimiSim\n",
    "import scipy"
   ]
  },
  {
   "cell_type": "code",
   "execution_count": 16,
   "metadata": {},
   "outputs": [
    {
     "name": "stdout",
     "output_type": "stream",
     "text": [
      "ERROR! Session/line number was not unique in database. History logging moved to new session 113\n",
      "added refs\n",
      "Simulation was loaded successfully\n"
     ]
    }
   ],
   "source": [
    "# Loading DWSIM simulation into Python (Simulation object)\n",
    "sim_smr = OptimiSim(path2sim = r\"C:\\Users\\Acer\\Documents\\PIBIC\\Ic-Metamodelagem\\DWSIMSIMS\\HidrogenaçãoCO2.dwxmz\",\n",
    "path2dwsim = r\"C:\\\\Users\\\\Acer\\\\AppData\\\\Local\\\\DWSIM7\\\\\",\n",
    "savepath =r\"C:\\Users\\Acer\\Documents\\PIBIC\\Ic-Metamodelagem\\DWSIMSIMS\\HidrogenaçãoCO2_backup.dwxmz\",\n",
    "init_dwsim=True)\n",
    "\n"
   ]
  },
  {
   "cell_type": "code",
   "execution_count": 21,
   "metadata": {},
   "outputs": [
    {
     "name": "stdout",
     "output_type": "stream",
     "text": [
      "Successfully added to <dwsimopt.solve_sim_opt.OptimiSim object at 0x000002225A81FAF0> a dof pddx function for OutletPressure of Mixture (if applicable) from 5 in bar (if applicable)\n",
      "Successfully added to <dwsimopt.solve_sim_opt.OptimiSim object at 0x000002225A81FAF0> a fobj pddx function for MassFlow of Methanol (if applicable) from 61 in kg/s (if applicable)\n",
      "{'dof': array([[<function _toDwsim.<locals>.<lambda> at 0x00000222555D1160>, '5',\n",
      "        'OutletPressure', 'Mixture', 'bar'],\n",
      "       [<function _toDwsim.<locals>.<lambda> at 0x00000222555D1040>,\n",
      "        '14', 'OutletTemperature', 'Mixture', 'C'],\n",
      "       [<function _toDwsim.<locals>.<lambda> at 0x00000222555D1280>,\n",
      "        '20', 'OutletPressure', 'Mixture', 'bar'],\n",
      "       [<function _toDwsim.<locals>.<lambda> at 0x000002225A8138B0>,\n",
      "        '28', 'OutletTemperature', 'Mixture', 'C'],\n",
      "       [<function _toDwsim.<locals>.<lambda> at 0x000002225A813C10>,\n",
      "        '25', 'OutletTemperature', 'Mixture', 'C']], dtype=object),\n",
      " 'f': array([<function _fromDwsim.<locals>.<lambda> at 0x0000022227FF3790>,\n",
      "       '61', 'MassFlow', 'Methanol', 'kg/s'], dtype=object),\n",
      " 'f_val': array([], dtype=float64),\n",
      " 'flowsheet': <DWSIM.UI.Desktop.Shared.Flowsheet object at 0x000002225A8625E0>,\n",
      " 'force_convergence': True,\n",
      " 'g': array([], dtype=object),\n",
      " 'g_val': array([], dtype=float64),\n",
      " 'interface': <DWSIM.Automation.Automation2 object at 0x000002224DBEBC70>,\n",
      " 'n_dof': 5,\n",
      " 'n_f': 1,\n",
      " 'n_g': 0,\n",
      " 'path2dwsim': 'C:\\\\\\\\Users\\\\\\\\Acer\\\\\\\\AppData\\\\\\\\Local\\\\\\\\DWSIM7\\\\\\\\',\n",
      " 'path2sim': 'C:\\\\Users\\\\Acer\\\\Documents\\\\PIBIC\\\\Ic-Metamodelagem\\\\DWSIMSIMS\\\\HidrogenaçãoCO2.dwxmz',\n",
      " 'savepath': 'C:\\\\Users\\\\Acer\\\\Documents\\\\PIBIC\\\\Ic-Metamodelagem\\\\DWSIMSIMS\\\\HidrogenaçãoCO2.dwxmz',\n",
      " 'verbose': True,\n",
      " 'x_val': array([], dtype=float64)}\n"
     ]
    }
   ],
   "source": [
    "from dwsimopt.py2dwsim import * \n",
    "#Pressão e temperatura de entrada do 1º Reator\n",
    "create_pddx( ['5', \"OutletPressure\", \"Mixture\", \"bar\"],     sim_smr, element=\"dof\" )\n",
    "#Temperatura do 1º Separador GL\n",
    "\n",
    "\n",
    "create_pddx( ['61', \"MassFlow\", \"Methanol\", \"kg/s\"],     sim_smr, element=\"fobj\" )\n",
    "\n",
    "pprint(vars(sim_smr))"
   ]
  },
  {
   "cell_type": "code",
   "execution_count": 18,
   "metadata": {},
   "outputs": [],
   "source": [
    "\n",
    "cb = np.array([58.5,60,162.1,80,80])\n",
    "bounds = np.array([0.75*np.asarray(cb), 1.25*np.asarray(cb)])\n",
    "xlo = bounds[0]\n",
    "xup = bounds[1]\n"
   ]
  },
  {
   "cell_type": "code",
   "execution_count": 19,
   "metadata": {},
   "outputs": [
    {
     "name": "stdout",
     "output_type": "stream",
     "text": [
      "opt_functions calculation at x = [ 58.5  60.  162.1  80.   80. ]\n"
     ]
    },
    {
     "ename": "KeyboardInterrupt",
     "evalue": "",
     "output_type": "error",
     "traceback": [
      "\u001b[1;31m---------------------------------------------------------------------------\u001b[0m",
      "\u001b[1;31mKeyboardInterrupt\u001b[0m                         Traceback (most recent call last)",
      "Cell \u001b[1;32mIn [19], line 9\u001b[0m\n\u001b[0;32m      7\u001b[0m X\u001b[39m=\u001b[39mnp\u001b[39m.\u001b[39marray(qmc\u001b[39m.\u001b[39mscale(sample,xlo,xup))\n\u001b[0;32m      8\u001b[0m \u001b[39mfor\u001b[39;00m i \u001b[39min\u001b[39;00m \u001b[39mrange\u001b[39m(\u001b[39m1\u001b[39m):\n\u001b[1;32m----> 9\u001b[0m     sim_smr\u001b[39m.\u001b[39;49mcalculate_optProblem(cb)\n\u001b[0;32m     10\u001b[0m     \u001b[39mwith\u001b[39;00m \u001b[39mopen\u001b[39m(\u001b[39m'\u001b[39m\u001b[39mY.csv\u001b[39m\u001b[39m'\u001b[39m,\u001b[39m'\u001b[39m\u001b[39ma\u001b[39m\u001b[39m'\u001b[39m) \u001b[39mas\u001b[39;00m csv_file:\n\u001b[0;32m     11\u001b[0m         csv_file\u001b[39m.\u001b[39mwrite(sim_smr\u001b[39m.\u001b[39mf_val\u001b[39m.\u001b[39mtolist())\n",
      "File \u001b[1;32mc:\\Users\\Acer\\Documents\\PIBIC\\Ic-Metamodelagem\\DwsimOptvenv\\lib\\site-packages\\dwsimopt\\sim_opt.py:207\u001b[0m, in \u001b[0;36mSimulationOptimization.calculate_optProblem\u001b[1;34m(self, x)\u001b[0m\n\u001b[0;32m    205\u001b[0m     delta_x \u001b[39m=\u001b[39m \u001b[39m1\u001b[39m\n\u001b[0;32m    206\u001b[0m \u001b[39mif\u001b[39;00m delta_x \u001b[39m>\u001b[39m \u001b[39m1e-10\u001b[39m:\n\u001b[1;32m--> 207\u001b[0m     \u001b[39mself\u001b[39;49m\u001b[39m.\u001b[39;49mconverge_simulation(x)\n\u001b[0;32m    208\u001b[0m     \u001b[39mself\u001b[39m\u001b[39m.\u001b[39mx_val \u001b[39m=\u001b[39m np\u001b[39m.\u001b[39marray(x)\n\u001b[0;32m    209\u001b[0m     \u001b[39mself\u001b[39m\u001b[39m.\u001b[39mf_val \u001b[39m=\u001b[39m np\u001b[39m.\u001b[39mzeros(\u001b[39mself\u001b[39m\u001b[39m.\u001b[39mn_f)\n",
      "File \u001b[1;32mc:\\Users\\Acer\\Documents\\PIBIC\\Ic-Metamodelagem\\DwsimOptvenv\\lib\\site-packages\\dwsimopt\\sim_opt.py:157\u001b[0m, in \u001b[0;36mSimulationOptimization.converge_simulation\u001b[1;34m(self, x)\u001b[0m\n\u001b[0;32m    155\u001b[0m \u001b[39m# second calculation\u001b[39;00m\n\u001b[0;32m    156\u001b[0m \u001b[39mif\u001b[39;00m \u001b[39mself\u001b[39m\u001b[39m.\u001b[39mforce_convergence:\n\u001b[1;32m--> 157\u001b[0m     error \u001b[39m=\u001b[39m \u001b[39mself\u001b[39;49m\u001b[39m.\u001b[39;49minterface\u001b[39m.\u001b[39;49mCalculateFlowsheet2(\u001b[39mself\u001b[39;49m\u001b[39m.\u001b[39;49mflowsheet)\n\u001b[0;32m    158\u001b[0m     time\u001b[39m.\u001b[39msleep(\u001b[39m0.1\u001b[39m)\n\u001b[0;32m    159\u001b[0m     res_old \u001b[39m=\u001b[39m np\u001b[39m.\u001b[39marray([\u001b[39mself\u001b[39m\u001b[39m.\u001b[39mf[\u001b[39m0\u001b[39m]()])\n",
      "\u001b[1;31mKeyboardInterrupt\u001b[0m: "
     ]
    }
   ],
   "source": [
    "\n",
    "import random\n",
    "import csv\n",
    "from scipy.stats import qmc\n",
    "#amostragem LHC\n",
    "sampler=qmc.LatinHypercube(d=5)\n",
    "sample=sampler.random(n=1)\n",
    "X=np.array(qmc.scale(sample,xlo,xup))\n",
    "for i in range(1):\n",
    "    sim_smr.calculate_optProblem(cb)\n",
    "    with open('Y.csv','a') as csv_file:\n",
    "        csv_file.write(sim_smr.f_val.tolist())"
   ]
  }
 ],
 "metadata": {
  "kernelspec": {
   "display_name": "Python 3.8.10 ('DwsimOptvenv': venv)",
   "language": "python",
   "name": "python3"
  },
  "language_info": {
   "codemirror_mode": {
    "name": "ipython",
    "version": 3
   },
   "file_extension": ".py",
   "mimetype": "text/x-python",
   "name": "python",
   "nbconvert_exporter": "python",
   "pygments_lexer": "ipython3",
   "version": "3.8.10"
  },
  "orig_nbformat": 4,
  "vscode": {
   "interpreter": {
    "hash": "c6790e775408b1f65be32c998537a071617e242f93b18360f877b0a7f8ebb7c5"
   }
  }
 },
 "nbformat": 4,
 "nbformat_minor": 2
}
